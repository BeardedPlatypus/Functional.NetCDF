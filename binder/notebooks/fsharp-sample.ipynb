{
 "cells": [
  {
   "cell_type": "markdown",
   "metadata": {},
   "source": [
    "# Install Functional.NetCDF Dependency"
   ]
  },
  {
   "cell_type": "code",
   "execution_count": null,
   "metadata": {
    "dotnet_interactive": {
     "language": "fsharp"
    },
    "vscode": {
     "languageId": "dotnet-interactive.fsharp"
    }
   },
   "outputs": [
    {
     "data": {
      "text/html": [
       "<div><div></div><div></div><div></div></div>"
      ]
     },
     "metadata": {},
     "output_type": "display_data"
    },
    {
     "ename": "Error",
     "evalue": "C:\\Users\\mwteg\\.packagemanagement\\nuget\\Projects\\9464--a8bcfcf7-1c80-4314-aaa1-6a64bbc2d85e\\Project.fsproj : error NU1101: Unable to find package Functional.NetCDF. No packages exist with this id in source(s): C:\\Program Files\\dotnet\\sdk\\6.0.300\\FSharp\\library-packs, Microsoft Visual Studio Offline Packages, nuget.org",
     "output_type": "error",
     "traceback": [
      "C:\\Users\\mwteg\\.packagemanagement\\nuget\\Projects\\9464--a8bcfcf7-1c80-4314-aaa1-6a64bbc2d85e\\Project.fsproj : error NU1101: Unable to find package Functional.NetCDF. No packages exist with this id in source(s): C:\\Program Files\\dotnet\\sdk\\6.0.300\\FSharp\\library-packs, Microsoft Visual Studio Offline Packages, nuget.org"
     ]
    }
   ],
   "source": [
    "#r \"nuget: Functional.NetCDF, 0.1.2\""
   ]
  },
  {
   "cell_type": "markdown",
   "metadata": {},
   "source": [
    "# Construct and run a TimeQuery"
   ]
  },
  {
   "cell_type": "code",
   "execution_count": null,
   "metadata": {
    "dotnet_interactive": {
     "language": "fsharp"
    },
    "vscode": {
     "languageId": "dotnet-interactive.fsharp"
    }
   },
   "outputs": [
    {
     "ename": "Error",
     "evalue": "input.fsx (15,15)-(15,21) typecheck error The type 'IQuery' is not defined.\ninput.fsx (15,15)-(15,21) typecheck error The type 'obj' is not an interface type\ninput.fsx (15,15)-(15,21) typecheck error The type 'IQuery' is not defined.\ninput.fsx (15,15)-(15,21) typecheck error The type 'IQuery' is not defined.\ninput.fsx (16,21)-(16,28) typecheck error No abstract or interface member was found that corresponds to this override\ninput.fsx (16,42)-(16,53) typecheck error The type 'IRepository' is not defined.\ninput.fsx (16,42)-(16,53) typecheck error The type 'IRepository' is not defined.\ninput.fsx (21,23)-(21,73) typecheck error Lookup on object of indeterminate type based on information prior to this program point. A type annotation may be needed prior to this program point to constrain the type of the object. This may allow the lookup to be resolved.\ninput.fsx (26,31)-(26,67) typecheck error Lookup on object of indeterminate type based on information prior to this program point. A type annotation may be needed prior to this program point to constrain the type of the object. This may allow the lookup to be resolved.\ninput.fsx (27,81)-(27,99) typecheck error Lookup on object of indeterminate type based on information prior to this program point. A type annotation may be needed prior to this program point to constrain the type of the object. This may allow the lookup to be resolved.\ninput.fsx (33,25)-(33,39) typecheck error The type 'IVariableValue' is not defined.\ninput.fsx (33,50)-(33,82) typecheck error Lookup on object of indeterminate type based on information prior to this program point. A type annotation may be needed prior to this program point to constrain the type of the object. This may allow the lookup to be resolved.\ninput.fsx (42,31)-(42,43) typecheck error Lookup on object of indeterminate type based on information prior to this program point. A type annotation may be needed prior to this program point to constrain the type of the object. This may allow the lookup to be resolved.",
     "output_type": "error",
     "traceback": [
      "input.fsx (15,15)-(15,21) typecheck error The type 'IQuery' is not defined.\n",
      "input.fsx (15,15)-(15,21) typecheck error The type 'obj' is not an interface type\n",
      "input.fsx (15,15)-(15,21) typecheck error The type 'IQuery' is not defined.\n",
      "input.fsx (15,15)-(15,21) typecheck error The type 'IQuery' is not defined.\n",
      "input.fsx (16,21)-(16,28) typecheck error No abstract or interface member was found that corresponds to this override\n",
      "input.fsx (16,42)-(16,53) typecheck error The type 'IRepository' is not defined.\n",
      "input.fsx (16,42)-(16,53) typecheck error The type 'IRepository' is not defined.\n",
      "input.fsx (21,23)-(21,73) typecheck error Lookup on object of indeterminate type based on information prior to this program point. A type annotation may be needed prior to this program point to constrain the type of the object. This may allow the lookup to be resolved.\n",
      "input.fsx (26,31)-(26,67) typecheck error Lookup on object of indeterminate type based on information prior to this program point. A type annotation may be needed prior to this program point to constrain the type of the object. This may allow the lookup to be resolved.\n",
      "input.fsx (27,81)-(27,99) typecheck error Lookup on object of indeterminate type based on information prior to this program point. A type annotation may be needed prior to this program point to constrain the type of the object. This may allow the lookup to be resolved.\n",
      "input.fsx (33,25)-(33,39) typecheck error The type 'IVariableValue' is not defined.\n",
      "input.fsx (33,50)-(33,82) typecheck error Lookup on object of indeterminate type based on information prior to this program point. A type annotation may be needed prior to this program point to constrain the type of the object. This may allow the lookup to be resolved.\n",
      "input.fsx (42,31)-(42,43) typecheck error Lookup on object of indeterminate type based on information prior to this program point. A type annotation may be needed prior to this program point to constrain the type of the object. This may allow the lookup to be resolved."
     ]
    }
   ],
   "source": [
    "open BeardedPlatypus.Functional.NetCDF\n",
    "\n",
    "/// <summary>\n",
    "/// The <see cref=\"TimeQuery\"/> implements the <see cref=\"IQuery\"/> to obtain\n",
    "/// the Time component of a NetCDF UGRID file.\n",
    "/// It retrieves the start time and time steps.\n",
    "/// </summary>\n",
    "type TimeQuery () =\n",
    "    let interpretUnitsString (unitsString: string) : string * DateTime =\n",
    "        match unitsString.Split([| \" since \" |], StringSplitOptions.RemoveEmptyEntries) with\n",
    "        | [| ts; dt |] -> (ts, DateTime.Parse dt)\n",
    "        | _ -> failwith \"Invalid units string\"\n",
    "\n",
    "    member val public StartTime : DateTime = DateTime() with get, set\n",
    "    member val public TimeSteps : TimeSpan list = [] with get, set\n",
    "\n",
    "    interface IQuery with\n",
    "        member this.Execute (repository: IRepository) : unit =\n",
    "            \n",
    "            // Retrieve the id by finding the first component that defines a time component.\n",
    "            // In the case of UGRID files, this is a variable that has a standard_name attribute\n",
    "            // set to \"time\".\n",
    "            let id = (repository.RetrieveVariablesWithAttributeWithValue (\"standard_name\", \"time\")) |> Seq.head\n",
    "\n",
    "\n",
    "            // The time variable should always have a \"units\" attribute, that defines a string \n",
    "            // as \"<time-quantity> since <date>\", for example \"seconds since 2001-01-01 00:00:00 +00:00\"\n",
    "            let unitsString = repository.RetrieveVariableAttribute (id, \"units\")\n",
    "            let (timeStep: string, startTime: DateTime) = interpretUnitsString (unitsString.Values |> Seq.head)\n",
    "\n",
    "            this.StartTime <- startTime\n",
    "\n",
    "            // The \"time\" variable is a 1D sequence of doubles, we will convert this to time spans\n",
    "            // by using the <time-quantity> obtained from the units string.\n",
    "            let value : IVariableValue<double> = repository.RetrieveVariableValue<double> id\n",
    "\n",
    "            let fTimeStep = \n",
    "                match timeStep with \n",
    "                | \"seconds\" -> TimeSpan.FromSeconds\n",
    "                | \"hours\"   -> TimeSpan.FromHours\n",
    "                | \"days\"    -> TimeSpan.FromDays\n",
    "                | _         -> failwith \"Invalid timestep\"\n",
    "\n",
    "            this.TimeSteps <- value.Values \n",
    "                              |> Seq.map fTimeStep\n",
    "                              |> Seq.toList\n"
   ]
  },
  {
   "cell_type": "code",
   "execution_count": null,
   "metadata": {
    "dotnet_interactive": {
     "language": "fsharp"
    },
    "vscode": {
     "languageId": "dotnet-interactive.fsharp"
    }
   },
   "outputs": [],
   "source": [
    "let query = TimeQuery()\n",
    "\n",
    "Service.Query (\"./example-data/map.nc\", query :> IQuery)\n",
    "\n",
    "// Validate the results\n",
    "// Expected start time: \"2001-01-01 00:00:00 +00:00\"\n",
    "query.StartTime"
   ]
  },
  {
   "cell_type": "markdown",
   "metadata": {},
   "source": []
  },
  {
   "cell_type": "markdown",
   "metadata": {},
   "source": []
  },
  {
   "cell_type": "markdown",
   "metadata": {},
   "source": []
  }
 ],
 "metadata": {
  "kernelspec": {
   "display_name": ".NET (F#)",
   "language": "F#",
   "name": ".net-fsharp"
  },
  "language_info": {
   "name": "F#"
  }
 },
 "nbformat": 4,
 "nbformat_minor": 2
}
